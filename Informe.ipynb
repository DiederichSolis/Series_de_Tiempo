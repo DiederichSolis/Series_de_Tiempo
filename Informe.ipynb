{
 "cells": [
  {
   "cell_type": "markdown",
   "id": "e0de7732",
   "metadata": {},
   "source": [
    "## Reporte de Desempeño de Modelos Predictivos\n",
    "\n",
    "* Modelo 1: Predicción vs Real (GLP)\n",
    "\n",
    "    * MAE: 3239.35\n",
    "\n",
    "    * RMSE: 39376.86\n",
    "\n",
    "    * MAPE: 6.27%\n",
    "\n",
    "    Análisis: El modelo muestra una precisión moderada con una tendencia consistente, lo que sugiere predicciones confiables para el consumo de GLP.\n",
    "\n",
    "\n",
    "* Modelo 2: Predicción vs Real para Importación (Test)\n",
    "\n",
    "    * MAE: 5981.71\n",
    "\n",
    "    * RMSE: 14218.74\n",
    "\n",
    "    * MAPE: 18%\n",
    "\n",
    "    Análisis: El modelo presenta menor precisión, con desviaciones notables que indican la necesidad de ajustes adicionales.\n",
    "\n",
    "\n",
    "* Recomendación\n",
    "\n",
    "Se selecciona el modelo de predicción de GLP como el mejor desempeño debido a su menor MAPE (6.27% frente a 18%). El código para este modelo se proporciona a continuación para su implementación y posible mejora."
   ]
  },
  {
   "cell_type": "markdown",
   "id": "58967ff7",
   "metadata": {},
   "source": []
  }
 ],
 "metadata": {
  "language_info": {
   "name": "python"
  }
 },
 "nbformat": 4,
 "nbformat_minor": 5
}
